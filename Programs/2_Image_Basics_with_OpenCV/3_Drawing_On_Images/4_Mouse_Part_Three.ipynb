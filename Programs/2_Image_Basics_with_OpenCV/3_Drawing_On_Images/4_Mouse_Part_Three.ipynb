{
 "cells": [
  {
   "cell_type": "code",
   "execution_count": 2,
   "metadata": {},
   "outputs": [],
   "source": [
    "import cv2\n",
    "import numpy as np"
   ]
  },
  {
   "attachments": {},
   "cell_type": "markdown",
   "metadata": {},
   "source": [
    "## Variables"
   ]
  },
  {
   "cell_type": "code",
   "execution_count": 3,
   "metadata": {},
   "outputs": [],
   "source": [
    "# true if mouse button DOWN, false if mouse button UP\n",
    "drawing = False\n",
    "ix, iy = -1, -1"
   ]
  },
  {
   "attachments": {},
   "cell_type": "markdown",
   "metadata": {},
   "source": [
    "## Function"
   ]
  },
  {
   "cell_type": "code",
   "execution_count": 4,
   "metadata": {},
   "outputs": [],
   "source": [
    "def draw_rectangle(event, x, y, flags, params):\n",
    "\n",
    "    global ix, iy, drawing\n",
    "\n",
    "    # Setting up the drawing mode\n",
    "    if event == cv2.EVENT_LBUTTONDOWN:\n",
    "        drawing = True\n",
    "        ix, iy = x, y\n",
    "\n",
    "    # Drawing the rectangle\n",
    "    elif event == cv2.EVENT_MOUSEMOVE:\n",
    "        if drawing:\n",
    "            cv2.rectangle(img=img,\n",
    "                          pt1=(ix, iy),\n",
    "                          pt2=(x, y),\n",
    "                          color=(0, 255, 0),\n",
    "                          thickness=-1\n",
    "                          )\n",
    "\n",
    "    # Resetting the drawing mode\n",
    "    elif event == cv2.EVENT_LBUTTONUP:\n",
    "        drawing = False\n",
    "        cv2.rectangle(img=img,\n",
    "                          pt1=(ix, iy),\n",
    "                          pt2=(x, y),\n",
    "                          color=(0, 255, 0),\n",
    "                          thickness=-1\n",
    "                          )"
   ]
  },
  {
   "attachments": {},
   "cell_type": "markdown",
   "metadata": {},
   "source": [
    "## Displaying the Image"
   ]
  },
  {
   "cell_type": "code",
   "execution_count": 5,
   "metadata": {},
   "outputs": [],
   "source": [
    "img = np.zeros((512, 512, 3))\n",
    "\n",
    "cv2.namedWindow(winname=\"My Drawing\")\n",
    "\n",
    "cv2.setMouseCallback(\"My Drawing\", draw_rectangle)\n",
    "\n",
    "while True:\n",
    "    \n",
    "    cv2.imshow(\"My Drawing\", img)\n",
    "    \n",
    "    if cv2.waitKey(1) & 0xFF == ord(\"q\"):\n",
    "        break\n",
    "\n",
    "cv2.destroyAllWindows()"
   ]
  }
 ],
 "metadata": {
  "kernelspec": {
   "display_name": "Python 3",
   "language": "python",
   "name": "python3"
  },
  "language_info": {
   "codemirror_mode": {
    "name": "ipython",
    "version": 3
   },
   "file_extension": ".py",
   "mimetype": "text/x-python",
   "name": "python",
   "nbconvert_exporter": "python",
   "pygments_lexer": "ipython3",
   "version": "3.10.4"
  },
  "orig_nbformat": 4,
  "vscode": {
   "interpreter": {
    "hash": "a42ccb73e7d9bfdf27e036f1d2b8b681e55fc0743cc5586bc2474d4a60f4b886"
   }
  }
 },
 "nbformat": 4,
 "nbformat_minor": 2
}
