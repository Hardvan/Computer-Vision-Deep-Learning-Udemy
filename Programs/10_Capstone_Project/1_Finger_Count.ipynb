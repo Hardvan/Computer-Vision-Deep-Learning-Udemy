{
 "cells": [
  {
   "attachments": {},
   "cell_type": "markdown",
   "metadata": {},
   "source": [
    "# `Finger Count Project`"
   ]
  },
  {
   "cell_type": "code",
   "execution_count": 31,
   "metadata": {},
   "outputs": [],
   "source": [
    "import cv2\n",
    "import numpy as np\n",
    "\n",
    "from sklearn.metrics import pairwise"
   ]
  },
  {
   "attachments": {},
   "cell_type": "markdown",
   "metadata": {},
   "source": [
    "## Part 1: Variables and Background Function"
   ]
  },
  {
   "cell_type": "code",
   "execution_count": 32,
   "metadata": {},
   "outputs": [],
   "source": [
    "background = None\n",
    "\n",
    "accumulated_weight = 0.5\n",
    "\n",
    "roi_top = 20\n",
    "roi_bottom = 300\n",
    "roi_right = 300\n",
    "roi_left = 600"
   ]
  },
  {
   "cell_type": "code",
   "execution_count": 33,
   "metadata": {},
   "outputs": [],
   "source": [
    "def calc_accum_avg(frame, accumulated_weight):\n",
    "\n",
    "    global background\n",
    "\n",
    "    if background is None:\n",
    "        background = frame.copy().astype(\"float\")\n",
    "        return None\n",
    "\n",
    "    cv2.accumulateWeighted(frame, background, accumulated_weight)"
   ]
  },
  {
   "attachments": {},
   "cell_type": "markdown",
   "metadata": {},
   "source": [
    "## Part 2: Segmentation"
   ]
  },
  {
   "cell_type": "code",
   "execution_count": 34,
   "metadata": {},
   "outputs": [],
   "source": [
    "def segment(frame, threshold=25):\n",
    "\n",
    "    global background\n",
    "\n",
    "    diff = cv2.absdiff(background.astype(\"uint8\"), frame)\n",
    "\n",
    "    ret, thresholded = cv2.threshold(diff, threshold, 255, cv2.THRESH_BINARY)\n",
    "\n",
    "    contours, hierarchy = cv2.findContours(\n",
    "        thresholded.copy(), cv2.RETR_EXTERNAL, cv2.CHAIN_APPROX_SIMPLE)\n",
    "\n",
    "    if len(contours) == 0:\n",
    "        return None\n",
    "\n",
    "    # Assume the largest contour is the hand\n",
    "    hand_segment = max(contours, key=cv2.contourArea)\n",
    "\n",
    "    return (thresholded, hand_segment)"
   ]
  },
  {
   "attachments": {},
   "cell_type": "markdown",
   "metadata": {},
   "source": [
    "## Part 3: Counting and Convex Hull"
   ]
  },
  {
   "cell_type": "code",
   "execution_count": 35,
   "metadata": {},
   "outputs": [],
   "source": [
    "def count_fingers(thresholded, hand_segment):\n",
    "\n",
    "    conv_hull = cv2.convexHull(hand_segment)\n",
    "\n",
    "    top = tuple(conv_hull[conv_hull[:, :, 1].argmin()][0])\n",
    "    bottom = tuple(conv_hull[conv_hull[:, :, 1].argmax()][0])\n",
    "    left = tuple(conv_hull[conv_hull[:, :, 0].argmin()][0])\n",
    "    right = tuple(conv_hull[conv_hull[:, :, 0].argmax()][0])\n",
    "\n",
    "    center_x = (left[0] + right[0]) // 2\n",
    "    center_y = (top[1] + bottom[1]) // 2\n",
    "\n",
    "    distance = pairwise.euclidean_distances(\n",
    "        [(center_x, center_y)], Y=[left, right, top, bottom])[0]\n",
    "\n",
    "    max_distance = distance.max()\n",
    "\n",
    "    radius = int(0.9 * max_distance)  # 90% of the max distance\n",
    "    circumference = (2 * np.pi * radius)\n",
    "\n",
    "    circular_roi = np.zeros(thresholded.shape[:2], dtype=\"uint8\")\n",
    "\n",
    "    cv2.circle(circular_roi, (center_x, center_y), radius, 255, 10)\n",
    "\n",
    "    circular_roi = cv2.bitwise_and(thresholded, thresholded, mask=circular_roi)\n",
    "\n",
    "    contours, hierarchy = cv2.findContours(\n",
    "        circular_roi.copy(), cv2.RETR_EXTERNAL, cv2.CHAIN_APPROX_NONE)\n",
    "\n",
    "    count = 0\n",
    "\n",
    "    for cnt in contours:\n",
    "\n",
    "        (x, y, w, h) = cv2.boundingRect(cnt)\n",
    "\n",
    "        out_of_wrist = (center_y + (center_y * 0.25)) > (y + h)\n",
    "\n",
    "        limit_points = ((circumference * 0.25) > cnt.shape[0])\n",
    "\n",
    "        if out_of_wrist and limit_points:\n",
    "            count += 1\n",
    "\n",
    "    return count"
   ]
  },
  {
   "attachments": {},
   "cell_type": "markdown",
   "metadata": {},
   "source": [
    "## Part 4: Putting it all together"
   ]
  },
  {
   "cell_type": "code",
   "execution_count": 37,
   "metadata": {},
   "outputs": [],
   "source": [
    "cam = cv2.VideoCapture(0)\n",
    "\n",
    "num_frame = 0\n",
    "\n",
    "while True:\n",
    "\n",
    "    ret, frame = cam.read()\n",
    "\n",
    "    frame_copy = frame.copy()\n",
    "\n",
    "    roi = frame[roi_top:roi_bottom, roi_right:roi_left]\n",
    "\n",
    "    gray = cv2.cvtColor(roi, cv2.COLOR_BGR2GRAY)\n",
    "\n",
    "    gray = cv2.GaussianBlur(gray, (7, 7), 0)\n",
    "\n",
    "    if num_frame < 60:\n",
    "\n",
    "        calc_accum_avg(gray, accumulated_weight)\n",
    "\n",
    "        if num_frame <= 59:\n",
    "            cv2.putText(frame_copy, \"WAIT. GETTING BACKGROUND AVG.\", (200, 300),\n",
    "                        cv2.FONT_HERSHEY_SIMPLEX, 1, (0, 0, 255), 2)\n",
    "            cv2.imshow(\"Finger Count\", frame_copy)\n",
    "\n",
    "    else:\n",
    "\n",
    "        hand = segment(gray)\n",
    "\n",
    "        if hand is not None:\n",
    "\n",
    "            thresholded, hand_segment = hand\n",
    "\n",
    "            # Draws contours around hand segment\n",
    "            cv2.drawContours(\n",
    "                frame_copy, [hand_segment + (roi_right, roi_top)], -1, (255, 0, 0), 1)\n",
    "\n",
    "            fingers = count_fingers(thresholded, hand_segment)\n",
    "\n",
    "            cv2.putText(frame_copy, str(fingers), (70, 45),\n",
    "                        cv2.FONT_HERSHEY_SIMPLEX, 1, (0, 0, 255), 2)\n",
    "\n",
    "            cv2.imshow(\"Thresholded\", thresholded)\n",
    "\n",
    "    cv2.rectangle(frame_copy, (roi_left, roi_top),\n",
    "                  (roi_right, roi_bottom), (0, 0, 255), 5)\n",
    "\n",
    "    num_frame += 1\n",
    "\n",
    "    cv2.imshow(\"Finger Count\", frame_copy)\n",
    "\n",
    "    k = cv2.waitKey(1) & 0xFF\n",
    "    if k == 27:\n",
    "        break\n",
    "\n",
    "cam.release()\n",
    "cv2.destroyAllWindows()"
   ]
  },
  {
   "cell_type": "code",
   "execution_count": null,
   "metadata": {},
   "outputs": [],
   "source": []
  }
 ],
 "metadata": {
  "kernelspec": {
   "display_name": "Python 3",
   "language": "python",
   "name": "python3"
  },
  "language_info": {
   "codemirror_mode": {
    "name": "ipython",
    "version": 3
   },
   "file_extension": ".py",
   "mimetype": "text/x-python",
   "name": "python",
   "nbconvert_exporter": "python",
   "pygments_lexer": "ipython3",
   "version": "3.10.4 (tags/v3.10.4:9d38120, Mar 23 2022, 23:13:41) [MSC v.1929 64 bit (AMD64)]"
  },
  "orig_nbformat": 4,
  "vscode": {
   "interpreter": {
    "hash": "a42ccb73e7d9bfdf27e036f1d2b8b681e55fc0743cc5586bc2474d4a60f4b886"
   }
  }
 },
 "nbformat": 4,
 "nbformat_minor": 2
}
