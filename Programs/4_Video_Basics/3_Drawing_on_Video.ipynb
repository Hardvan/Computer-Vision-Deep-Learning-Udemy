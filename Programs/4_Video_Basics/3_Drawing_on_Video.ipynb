{
 "cells": [
  {
   "cell_type": "code",
   "execution_count": 3,
   "metadata": {},
   "outputs": [],
   "source": [
    "import cv2"
   ]
  },
  {
   "cell_type": "code",
   "execution_count": 3,
   "metadata": {},
   "outputs": [
    {
     "ename": "AttributeError",
     "evalue": "'cv2.VideoCapture' object has no attribute 'realse'",
     "output_type": "error",
     "traceback": [
      "\u001b[1;31m---------------------------------------------------------------------------\u001b[0m",
      "\u001b[1;31mAttributeError\u001b[0m                            Traceback (most recent call last)",
      "Cell \u001b[1;32mIn[3], line 32\u001b[0m\n\u001b[0;32m     29\u001b[0m     \u001b[39mif\u001b[39;00m cv2\u001b[39m.\u001b[39mwaitKey(\u001b[39m1\u001b[39m) \u001b[39m&\u001b[39m \u001b[39m0xFF\u001b[39m \u001b[39m==\u001b[39m \u001b[39mord\u001b[39m(\u001b[39m\"\u001b[39m\u001b[39mq\u001b[39m\u001b[39m\"\u001b[39m):\n\u001b[0;32m     30\u001b[0m         \u001b[39mbreak\u001b[39;00m\n\u001b[1;32m---> 32\u001b[0m cap\u001b[39m.\u001b[39;49mrealse()\n\u001b[0;32m     33\u001b[0m cv2\u001b[39m.\u001b[39mdestroyAllWindows()\n",
      "\u001b[1;31mAttributeError\u001b[0m: 'cv2.VideoCapture' object has no attribute 'realse'"
     ]
    },
    {
     "ename": "",
     "evalue": "",
     "output_type": "error",
     "traceback": [
      "\u001b[1;31mThe Kernel crashed while executing code in the the current cell or a previous cell. Please review the code in the cell(s) to identify a possible cause of the failure. Click <a href='https://aka.ms/vscodeJupyterKernelCrash'>here</a> for more info. View Jupyter <a href='command:jupyter.viewOutput'>log</a> for further details."
     ]
    }
   ],
   "source": [
    "cap = cv2.VideoCapture(0)\n",
    "\n",
    "width = int(cap.get(cv2.CAP_PROP_FRAME_WIDTH))\n",
    "height = int(cap.get(cv2.CAP_PROP_FRAME_HEIGHT))\n",
    "\n",
    "# Top Left Corner of rectangle\n",
    "x = width // 2\n",
    "y = height // 2\n",
    "\n",
    "# Width and height of rectangle\n",
    "w = width // 4\n",
    "h = height // 4\n",
    "\n",
    "# Bottom Right Corner of rectangle: (x + w, y + h)\n",
    "\n",
    "while True:\n",
    "    \n",
    "    ret, frame = cap.read()\n",
    "    \n",
    "    #? Drawing Rectangle\n",
    "    cv2.rectangle(frame,\n",
    "                  pt1=(x,y),\n",
    "                  pt2=(x+w, y+h),\n",
    "                  color=(0, 0, 255),\n",
    "                  thickness=4\n",
    "                  )\n",
    "    \n",
    "    cv2.imshow(\"Frame\", frame)\n",
    "    \n",
    "    if cv2.waitKey(1) & 0xFF == ord(\"q\"):\n",
    "        break\n",
    "\n",
    "cap.realse()\n",
    "cv2.destroyAllWindows()"
   ]
  },
  {
   "attachments": {},
   "cell_type": "markdown",
   "metadata": {},
   "source": [
    "## Drawing a rectangle with Mouse Click"
   ]
  },
  {
   "cell_type": "code",
   "execution_count": 4,
   "metadata": {},
   "outputs": [],
   "source": [
    "cap = cv2.VideoCapture(0)\n",
    "\n",
    "width = int(cap.get(cv2.CAP_PROP_FRAME_WIDTH))\n",
    "height = int(cap.get(cv2.CAP_PROP_FRAME_HEIGHT))\n",
    "\n",
    "#? Callback Function Rectangle\n",
    "def draw_rectangle(event, x, y, flags, param):\n",
    "    \n",
    "    global pt1, pt2, topleft_clicked, botright_clicked\n",
    "    \n",
    "    if event == cv2.EVENT_LBUTTONDOWN:\n",
    "        \n",
    "        # Reset the Rectangle\n",
    "        if topleft_clicked and botright_clicked:\n",
    "            pt1 = (0, 0)\n",
    "            pt2 = (0, 0)\n",
    "            topleft_clicked = False\n",
    "            botright_clicked = False\n",
    "        \n",
    "        # First Click\n",
    "        if not topleft_clicked:\n",
    "            pt1 = (x, y)\n",
    "            topleft_clicked = True\n",
    "        \n",
    "        # Second Click\n",
    "        elif not botright_clicked:\n",
    "            pt2 = (x, y)\n",
    "            botright_clicked = True\n",
    "    \n",
    "\n",
    "#? Global Variables\n",
    "pt1 = (0, 0)\n",
    "pt2 = (0, 0)\n",
    "topleft_clicked = False\n",
    "botright_clicked = False\n",
    "\n",
    "#? Connecting to the callback\n",
    "cap = cv2.VideoCapture(0)\n",
    "cv2.namedWindow(\"Test\")\n",
    "cv2.setMouseCallback(\"Test\", draw_rectangle)\n",
    "\n",
    "while True:\n",
    "    \n",
    "    ret, frame = cap.read()\n",
    "    \n",
    "    #? Drawing on the frame based on the global variables\n",
    "    if topleft_clicked:\n",
    "        cv2.circle(frame,\n",
    "                   center=pt1,\n",
    "                   radius=5,\n",
    "                   color=(0, 0, 255),\n",
    "                   thickness=-1\n",
    "                   )\n",
    "    \n",
    "    if topleft_clicked and botright_clicked:\n",
    "        cv2.rectangle(frame,\n",
    "                      pt1,\n",
    "                      pt2,\n",
    "                      color=(0, 0, 255),\n",
    "                      thickness=5\n",
    "                      )\n",
    "    \n",
    "    cv2.imshow(\"Test\", frame)\n",
    "    \n",
    "    if cv2.waitKey(1) & 0xFF == ord(\"q\"):\n",
    "        break\n",
    "\n",
    "cap.release()\n",
    "cv2.destroyAllWindows()"
   ]
  },
  {
   "cell_type": "code",
   "execution_count": null,
   "metadata": {},
   "outputs": [],
   "source": []
  }
 ],
 "metadata": {
  "kernelspec": {
   "display_name": "Python 3",
   "language": "python",
   "name": "python3"
  },
  "language_info": {
   "codemirror_mode": {
    "name": "ipython",
    "version": 3
   },
   "file_extension": ".py",
   "mimetype": "text/x-python",
   "name": "python",
   "nbconvert_exporter": "python",
   "pygments_lexer": "ipython3",
   "version": "3.10.4"
  },
  "orig_nbformat": 4,
  "vscode": {
   "interpreter": {
    "hash": "a42ccb73e7d9bfdf27e036f1d2b8b681e55fc0743cc5586bc2474d4a60f4b886"
   }
  }
 },
 "nbformat": 4,
 "nbformat_minor": 2
}
