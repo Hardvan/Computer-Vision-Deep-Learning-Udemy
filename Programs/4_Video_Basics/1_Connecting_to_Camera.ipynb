{
 "cells": [
  {
   "cell_type": "code",
   "execution_count": 10,
   "metadata": {},
   "outputs": [],
   "source": [
    "import cv2"
   ]
  },
  {
   "cell_type": "code",
   "execution_count": 11,
   "metadata": {},
   "outputs": [],
   "source": [
    "cap = cv2.VideoCapture(0) # 0 is the default camera\n",
    "\n",
    "#? Width and Height of the camera\n",
    "width = int(cap.get(cv2.CAP_PROP_FRAME_WIDTH))\n",
    "height = int(cap.get(cv2.CAP_PROP_FRAME_HEIGHT))\n",
    "\n",
    "#? Saving the Video\n",
    "writer = cv2.VideoWriter(\"MyVideo.mp4\",\n",
    "                         cv2.VideoWriter_fourcc(*'VIDX'),\n",
    "                         30, # FPS\n",
    "                         (width, height)\n",
    "                         )\n",
    "\n",
    "while True:\n",
    "    \n",
    "    ret, frame = cap.read() # ret is a boolean value, frame is the image\n",
    "\n",
    "    # Operations (Drawing)\n",
    "    writer.write(frame)\n",
    "    \n",
    "    #? Display the image\n",
    "    cv2.imshow(\"Frame\", frame)\n",
    "    \n",
    "    #? Wait for 1 millisecond and check if the user pressed q\n",
    "    if cv2.waitKey(1) & 0xFF == ord(\"q\"):\n",
    "        break\n",
    "\n",
    "cap.release()\n",
    "writer.release()\n",
    "cv2.destroyAllWindows()"
   ]
  },
  {
   "cell_type": "code",
   "execution_count": null,
   "metadata": {},
   "outputs": [],
   "source": []
  }
 ],
 "metadata": {
  "kernelspec": {
   "display_name": "Python 3",
   "language": "python",
   "name": "python3"
  },
  "language_info": {
   "codemirror_mode": {
    "name": "ipython",
    "version": 3
   },
   "file_extension": ".py",
   "mimetype": "text/x-python",
   "name": "python",
   "nbconvert_exporter": "python",
   "pygments_lexer": "ipython3",
   "version": "3.10.4"
  },
  "orig_nbformat": 4,
  "vscode": {
   "interpreter": {
    "hash": "a42ccb73e7d9bfdf27e036f1d2b8b681e55fc0743cc5586bc2474d4a60f4b886"
   }
  }
 },
 "nbformat": 4,
 "nbformat_minor": 2
}
