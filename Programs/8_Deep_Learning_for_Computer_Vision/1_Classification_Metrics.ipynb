{
 "cells": [
  {
   "attachments": {},
   "cell_type": "markdown",
   "metadata": {},
   "source": [
    "## `Accuracy`\n",
    "### No. of correct predictions / Total no. of predictions\n",
    "#### Formula: $$\\frac{TP + TN}{TP + TN + FP + FN}$$"
   ]
  },
  {
   "attachments": {},
   "cell_type": "markdown",
   "metadata": {},
   "source": [
    "## `Recall`\n",
    "### No. of correct predictions of positive class / Total no. of positive class\n",
    "#### Formula: $$\\frac{TP}{TP + FN}$$"
   ]
  },
  {
   "attachments": {},
   "cell_type": "markdown",
   "metadata": {},
   "source": [
    "## `Precision`\n",
    "### No. of correct predictions of positive class / Total no. of predictions of positive class\n",
    "#### Formula: $$\\frac{TP}{TP + FP}$$"
   ]
  },
  {
   "attachments": {},
   "cell_type": "markdown",
   "metadata": {},
   "source": [
    "## `F1-Score`\n",
    "### Harmonic mean of precision and recall\n",
    "#### Formula: $$\\frac{2}{\\frac{1}{precision} + \\frac{1}{recall}}$$"
   ]
  }
 ],
 "metadata": {
  "language_info": {
   "name": "python"
  },
  "orig_nbformat": 4
 },
 "nbformat": 4,
 "nbformat_minor": 2
}
